{
  "cells": [
    {
      "cell_type": "markdown",
      "metadata": {
        "id": "2jLE-hbcy9O8"
      },
      "source": [
        "# Imports"
      ]
    },
    {
      "cell_type": "code",
      "execution_count": 73,
      "metadata": {
        "id": "7swIPdPuy9PI"
      },
      "outputs": [],
      "source": [
        "import numpy as np\n",
        "import pandas as pd\n",
        "from sklearn import tree\n",
        "import matplotlib.pyplot as plt"
      ]
    },
    {
      "cell_type": "markdown",
      "metadata": {
        "id": "HuakaN7by9PM"
      },
      "source": [
        "# Preprocess data\n",
        "\n",
        "1. Read \"BF_cells_on_grid.txt\" (Brighfield features) and \"SSC.txt\" (Darkfield features) as pandas Dataframe\n",
        "2. Based on the folders of each image determine the ground truth label for each image (feature vector)\n",
        "    + Use only 5 different classes. G1/G2/S as class 0, Prophase as class 1, Metaphase as class 2, Anaphase as class 3 and Telophase as class 4\n",
        "3. Only some of the columns are useful for classification. Only keep the useful ones.\n",
        "4. Concat brightfield and darkfield features and append the ground truth as the last column.\n",
        "5. After merging, delete all rows that contain any \"nan\" value.\n",
        "6. To make sure that you didn't make any mistake, check that the final dataframe must have 1007 rows and 214 columns. "
      ]
    },
    {
      "cell_type": "code",
      "source": [
        "bf_df = pd.read_csv(\"BF_cells_on_grid.csv\")\n",
        "ssc_df = pd.read_csv(\"SSC.csv\")"
      ],
      "metadata": {
        "id": "HkNIPn7zzZd9"
      },
      "execution_count": 74,
      "outputs": []
    },
    {
      "cell_type": "code",
      "source": [
        "labels = [3, 0, 0, 2, 1, 0, 4]\n",
        "gtruth_labels = []\n",
        "for i in range(bf_df.shape[0]):\n",
        "  label = labels[int(bf_df[\"ImageNumber\"][i] - 1)]\n",
        "  gtruth_labels.append(label)"
      ],
      "metadata": {
        "id": "oBKNgveF3kIq"
      },
      "execution_count": 75,
      "outputs": []
    },
    {
      "cell_type": "code",
      "execution_count": 76,
      "metadata": {
        "id": "0yPvPq1Ly9PO"
      },
      "outputs": [],
      "source": [
        "brf_exclude_cols = [0,1,3,4,7,17,19] + list(range(70,77))       # Exclude these columns from brightfield features\n",
        "daf_exclude_cols = list(range(0,50)) + list(range(70,77))       # Exclude these columns from darkfield features"
      ]
    },
    {
      "cell_type": "code",
      "execution_count": 77,
      "metadata": {
        "id": "Qpn7CNYCy9PP"
      },
      "outputs": [],
      "source": [
        "bf_df.drop(bf_df.columns[brf_exclude_cols], axis=1, inplace=True)\n",
        "ssc_df.drop(ssc_df.columns[daf_exclude_cols], axis=1, inplace=True)"
      ]
    },
    {
      "cell_type": "code",
      "source": [
        "dataframe = pd.concat([bf_df, ssc_df], axis = 1)\n",
        "dataframe['label'] = gtruth_labels\n",
        "dataframe = dataframe.dropna()\n",
        "dataframe.shape"
      ],
      "metadata": {
        "colab": {
          "base_uri": "https://localhost:8080/"
        },
        "id": "_htIcyeg_ZRY",
        "outputId": "78be6d65-e569-4383-c123-4bd8cf509125"
      },
      "execution_count": 78,
      "outputs": [
        {
          "output_type": "execute_result",
          "data": {
            "text/plain": [
              "(1007, 214)"
            ]
          },
          "metadata": {},
          "execution_count": 78
        }
      ]
    },
    {
      "cell_type": "markdown",
      "metadata": {
        "id": "gESNznRby9PQ"
      },
      "source": [
        "# Fit a classifier\n",
        "\n",
        "1. Split the dataset into train/test.\n",
        "2. Fit a classifier on the train data.\n",
        "    + No need to implement any complex classifier. You can use the available classifiers in sklearn such as decision trees.\n",
        "3. Evaluate the model on the test set.\n",
        "4. Report accuracy and plot the confusion matrix."
      ]
    },
    {
      "cell_type": "code",
      "execution_count": 79,
      "metadata": {
        "id": "Oe7Szw0Cy9PS"
      },
      "outputs": [],
      "source": [
        "from sklearn.model_selection import train_test_split\n",
        "from sklearn.tree import DecisionTreeClassifier\n",
        "from sklearn.metrics import accuracy_score, confusion_matrix"
      ]
    },
    {
      "cell_type": "code",
      "source": [
        "data = np.array(dataframe.drop('label', axis=1))\n",
        "labels = np.array(dataframe['label'])\n",
        "X_train, X_test, y_train, y_test = train_test_split(data, labels, test_size = 0.2 ,random_state=42)"
      ],
      "metadata": {
        "id": "P4qiqDs4I8wM"
      },
      "execution_count": 80,
      "outputs": []
    },
    {
      "cell_type": "code",
      "source": [
        "clf_model = DecisionTreeClassifier(criterion=\"gini\", random_state=42, max_depth=8, min_samples_leaf=5)   \n",
        "clf_model.fit(X_train,y_train)"
      ],
      "metadata": {
        "colab": {
          "base_uri": "https://localhost:8080/"
        },
        "id": "-5uG1A1lJcw7",
        "outputId": "669e67de-b976-4d78-993c-c9f868b68158"
      },
      "execution_count": 81,
      "outputs": [
        {
          "output_type": "execute_result",
          "data": {
            "text/plain": [
              "DecisionTreeClassifier(max_depth=8, min_samples_leaf=5, random_state=42)"
            ]
          },
          "metadata": {},
          "execution_count": 81
        }
      ]
    },
    {
      "cell_type": "code",
      "source": [
        "predicted_labels = clf_model.predict(X_test)\n",
        "acc_score = accuracy_score(y_test, predicted_labels)\n",
        "conf_matrix = confusion_matrix(y_test, predicted_labels)"
      ],
      "metadata": {
        "id": "eYbB1qOvJnoE"
      },
      "execution_count": 82,
      "outputs": []
    },
    {
      "cell_type": "code",
      "source": [
        "print(acc_score)\n",
        "print(conf_matrix)"
      ],
      "metadata": {
        "colab": {
          "base_uri": "https://localhost:8080/"
        },
        "id": "ZBeD0OKKZ9b0",
        "outputId": "5c6b0c77-a003-4b1b-b520-0b824c173337"
      },
      "execution_count": 83,
      "outputs": [
        {
          "output_type": "stream",
          "name": "stdout",
          "text": [
            "0.7277227722772277\n",
            "[[115  23   1   0   0]\n",
            " [ 16  22   3   0   0]\n",
            " [  6   5   8   0   0]\n",
            " [  0   1   0   0   0]\n",
            " [  0   0   0   0   2]]\n"
          ]
        }
      ]
    }
  ],
  "metadata": {
    "kernelspec": {
      "display_name": "Python 3.7.9 ('mfi')",
      "language": "python",
      "name": "python3"
    },
    "language_info": {
      "codemirror_mode": {
        "name": "ipython",
        "version": 3
      },
      "file_extension": ".py",
      "mimetype": "text/x-python",
      "name": "python",
      "nbconvert_exporter": "python",
      "pygments_lexer": "ipython3",
      "version": "3.7.9"
    },
    "orig_nbformat": 4,
    "vscode": {
      "interpreter": {
        "hash": "2f506e5d3dc180bf9739ef8803defc0edb8424229ea0893793918f97f92b51bc"
      }
    },
    "colab": {
      "provenance": []
    }
  },
  "nbformat": 4,
  "nbformat_minor": 0
}